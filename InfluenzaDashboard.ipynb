{
 "cells": [
  {
   "cell_type": "markdown",
   "metadata": {},
   "source": [
    "Source: [DIY Disease Tracking Dashboard Kit](https://github.com/fsmeraldi/diy-covid19dash) (C) Fabrizio Smeraldi, 2020,2024 ([f.smeraldi@qmul.ac.uk](mailto:f.smeraldi@qmul.ac.uk) - [web](http://www.eecs.qmul.ac.uk/~fabri/)). This notebook is released under the [GNU GPLv3.0 or later](https://www.gnu.org/licenses/)."
   ]
  },
  {
   "cell_type": "markdown",
   "metadata": {},
   "source": [
    "# Influenza Tracking Dashboard"
   ]
  },
  {
   "cell_type": "markdown",
   "metadata": {},
   "source": [
    "### Data Source and Graph Description\n",
    "\n",
    "The data used in this dashboard is retrieved from the UK Health Security Agency's Respiratory Viruses Dashboard:  \n",
    "[UKHSA Dashboard - Influenza](https://ukhsa-dashboard.data.gov.uk/respiratory-viruses/influenza).\n",
    "\n",
    "#### Graph Content:\n",
    "- The graph visualises trends in influenza cases over time, based on publicly available UKHSA data accessed through API.\n",
    "- It highlights the weekly number of testing and hospitalisation cases (including ICU/HDU hospital admissions and general hospital admissions)\n",
    "- The purpose of this visualization is to help identify patterns and peaks in influenza activity across different age groups in the UK.\n",
    "\n",
    "**Disclaimer:** The data is subject to change and updates as reported by the UKHSA. Users should consult the source for the most accurate and recent information.\n"
   ]
  },
  {
   "cell_type": "code",
   "execution_count": 1,
   "metadata": {},
   "outputs": [],
   "source": [
    "from IPython.display import clear_output\n",
    "import ipywidgets as widgets\n",
    "import pandas as pd\n",
    "import numpy as np\n",
    "import matplotlib.pyplot as plt\n",
    "import requests\n",
    "import time\n",
    "import json\n",
    "from datetime import datetime"
   ]
  },
  {
   "cell_type": "code",
   "execution_count": 2,
   "metadata": {},
   "outputs": [],
   "source": [
    "%matplotlib inline\n",
    "# make figures larger\n",
    "plt.rcParams['figure.dpi'] = 100"
   ]
  },
  {
   "cell_type": "code",
   "execution_count": 3,
   "metadata": {},
   "outputs": [],
   "source": [
    "# Load JSON files and store the raw data in some variable\n",
    "with open(\"tests.json\", \"rt\") as INFILE:\n",
    "    tests=json.load(INFILE)\n",
    "with open(\"icu_admissions.json\", \"rt\") as INFILE:\n",
    "    icu_admissions=json.load(INFILE)\n",
    "with open(\"hospital_admissions.json\", \"rt\") as INFILE:\n",
    "    hospital_admissions=json.load(INFILE)"
   ]
  },
  {
   "cell_type": "code",
   "execution_count": 4,
   "metadata": {},
   "outputs": [],
   "source": [
    "# Create API wrapper object to use later for downloading data from UKHSA\n",
    "class APIwrapper:\n",
    "    _access_point=\"https://api.ukhsa-dashboard.data.gov.uk\"\n",
    "    _last_access=0.0 # time of last api access\n",
    "    \n",
    "    def __init__(self, theme, sub_theme, topic, geography_type, geography, metric):\n",
    "        url_path=(f\"/themes/{theme}/sub_themes/{sub_theme}/topics/{topic}/geography_types/\" +\n",
    "                  f\"{geography_type}/geographies/{geography}/metrics/{metric}\")\n",
    "        self._start_url=APIwrapper._access_point+url_path\n",
    "        self._filters=None\n",
    "        self._page_size=-1\n",
    "        self.count=None\n",
    "\n",
    "    def get_page(self, filters={}, page_size=5):\n",
    "        if page_size>365:\n",
    "            raise ValueError(\"Max supported page size is 365\")\n",
    "        if filters!=self._filters or page_size!=self._page_size:\n",
    "            self._filters=filters\n",
    "            self._page_size=page_size\n",
    "            self._next_url=self._start_url\n",
    "        if self._next_url==None: \n",
    "            return [] \n",
    "        curr_time=time.time() \n",
    "        deltat=curr_time - APIwrapper._last_access\n",
    "        if deltat<0.33: # max 3 requests/second\n",
    "            time.sleep(0.33-deltat)\n",
    "        APIwrapper._last_access=curr_time\n",
    "        parameters={x: y for x, y in filters.items() if y!=None}\n",
    "        parameters['page_size']=page_size\n",
    "        response = requests.get(self._next_url, params=parameters).json()\n",
    "        self._next_url=response['next']\n",
    "        self.count=response['count']\n",
    "        return response['results'] \n",
    "\n",
    "    def get_all_pages(self, filters={}, page_size=365):\n",
    "        data=[]\n",
    "        while True:\n",
    "            next_page=self.get_page(filters, page_size)\n",
    "            if next_page==[]:\n",
    "                break\n",
    "            data.extend(next_page)\n",
    "        return data"
   ]
  },
  {
   "cell_type": "code",
   "execution_count": 5,
   "metadata": {},
   "outputs": [],
   "source": [
    "# Function to get api data \n",
    "def access_api(metric):\n",
    "    \"\"\" Accesses the UKHSA API. Return data as a like-for-like replacement for the \"canned\" data loaded from the JSON file. \"\"\"\n",
    "    structure={\"theme\": \"infectious_disease\", \n",
    "           \"sub_theme\": \"respiratory\",\n",
    "           \"topic\": \"Influenza\",\n",
    "           \"geography_type\": \"Nation\", \n",
    "           \"geography\": \"England\"}\n",
    "    structure[\"metric\"] = metric\n",
    "    api = APIwrapper(**structure)\n",
    "    data = api.get_all_pages()\n",
    "    return data # return data read from the API"
   ]
  },
  {
   "cell_type": "code",
   "execution_count": 6,
   "metadata": {},
   "outputs": [],
   "source": [
    "# Function to wrangle raw data from the API\n",
    "def wrangle_data(rawdata): \n",
    "    data = {}\n",
    "    for entry in rawdata:\n",
    "        date = entry['date']\n",
    "        value = entry['metric_value']\n",
    "        age = entry['age']\n",
    "        if age == '0-4':\n",
    "            age = '00-04' # this is to make age groups format consistent, group 0-4 is same as 00-04\n",
    "        if age == '5-14':\n",
    "            age = '05-14' # this is to make age groups format consistent, group 5-14 is same as 05-14\n",
    "        if date not in data:\n",
    "            data[date] = {}\n",
    "        data[date][age] = value\n",
    "    # Convert data to pandas dataframe\n",
    "    df = pd.DataFrame.from_dict(data, orient='index')\n",
    "    # Convert date from string to date format using datetime module\n",
    "    df.index = df.index.map(lambda x: datetime.strptime(x,\"%Y-%m-%d\"))\n",
    "    # Sort index to display df in date order\n",
    "    df = df.sort_index()\n",
    "    # Fill all na values with 0\n",
    "    df.fillna(value=0, inplace=True)\n",
    "    return df"
   ]
  },
  {
   "cell_type": "code",
   "execution_count": 7,
   "metadata": {},
   "outputs": [],
   "source": [
    "# Function to plot data, with some parameters for reusability for plotting different datasets\n",
    "# Parameters selected_year and selected_age are widgets' values\n",
    "def plot_data(df, selected_year, selected_age, ylabel1, ylabel2):\n",
    "    age = [age for age in selected_age] # list of all age groups values selected by user when interacting with age widget\n",
    "    yeardf = df[df.index.year.isin(selected_year)] # filtered df based on year selected by user when interacting with year widget\n",
    "    fig, ax = plt.subplots(1,2, figsize=(12,6)) \n",
    "    # Graph 1: metric values over time across all age\n",
    "    yeardf['all'].plot(ax=ax[0], color='#235080')\n",
    "    ax[0].set_ylabel(ylabel1)\n",
    "    # Graph 2: metric value over time across different age groups\n",
    "    yeardf[age].plot(ax=ax[1], cmap=plt.cm.Blues)\n",
    "    ax[1].set_ylabel(ylabel2)\n",
    "    ax[1].legend(loc='center left',bbox_to_anchor=(1.0, 0.5))\n",
    "    plt.show()"
   ]
  },
  {
   "cell_type": "code",
   "execution_count": 8,
   "metadata": {},
   "outputs": [],
   "source": [
    "# Function to refresh graph\n",
    "def refresh_graph(year_widget, age_widget):\n",
    "    currentyear = year_widget.value\n",
    "    currentage = age_widget.value\n",
    "    # Toggle year\n",
    "    if currentyear == (year_widget.options[-1],):\n",
    "        otheryear = (year_widget.options[0],)\n",
    "    else:\n",
    "        otheryear = (year_widget.options[-1],)\n",
    "    year_widget.value=otheryear # forces the redraw\n",
    "    year_widget.value=currentyear # now we can change it back\n",
    "    # Toggle age\n",
    "    if currentage == (age_widget.options[0],):\n",
    "        otherage = (age_widget.options[-1],)\n",
    "    else:\n",
    "        otherage = (age_widget.options[0],)\n",
    "    age_widget.value = otherage # forces the redraw\n",
    "    age_widget.value = currentage # now we can change it back"
   ]
  },
  {
   "cell_type": "code",
   "execution_count": 9,
   "metadata": {},
   "outputs": [],
   "source": [
    "# Function to execute when refresh data button is clicked\n",
    "def api_button_callback(button, metric, output, button_widget, year_widget, age_widget):\n",
    "    # Get fresh data from the API. If you have time, include some error handling around this call.\n",
    "    try: \n",
    "        apidata = access_api(metric)\n",
    "        df = wrangle_data(apidata)\n",
    "        with output:\n",
    "            refresh_graph(year_widget, age_widget) # the graph won't refresh until the user interacts with the widget.\n",
    "            button_widget.icon=\"check\"\n",
    "    # Handle connection-related issues (i.e., network down or server unreachable)\n",
    "    except ConnectionError:\n",
    "        with output:\n",
    "            print(\"Error: Unable to connect to the data. Please check your internet connection or try again later.\")\n",
    "            button_widget.icon='unlink'\n",
    "    # Handle data wrangling errors (i.e., unexpected API response structure)\n",
    "    except ValueError as e:\n",
    "        with output:\n",
    "            print(f\"Error: Data processing failed due to an unexpected value: {e}\")\n",
    "            button_widget.icon=\"times\"\n",
    "    # Catch any other unforeseen errors\n",
    "    except Exception as e:\n",
    "        with output:\n",
    "            print(f\"An unexpected error occurred: {e}\")\n",
    "            button_widget.icon=\"times\"\n",
    "            \n",
    "    finally:\n",
    "        button_widget.button_style=''\n",
    "        button_widget.disabled=True"
   ]
  },
  {
   "cell_type": "markdown",
   "metadata": {},
   "source": [
    "## <font color=\"#4384f3\">Testing: Weekly positivity of people receiving a PCR test</font>"
   ]
  },
  {
   "cell_type": "markdown",
   "metadata": {},
   "source": [
    "**<font color=\"#555555\">The two figures below show the percentage of people who received a PCR and had at least one positive PCR test result for influenza in the same 7 days. Data is shown by specimen date (the date the sample was collected)</font>**\n",
    "\n",
    "_Source: https://ukhsa-dashboard.data.gov.uk/respiratory-viruses/influenza_\n",
    "\n",
    "- Select the year or age groups for which you want to see the data. You can select multiple years or age groups by Shift+Click.\n",
    "- To get the most recent data from Public Health England, please click Refresh data"
   ]
  },
  {
   "cell_type": "code",
   "execution_count": 10,
   "metadata": {},
   "outputs": [],
   "source": [
    "tests_df = wrangle_data(tests)"
   ]
  },
  {
   "cell_type": "code",
   "execution_count": 11,
   "metadata": {},
   "outputs": [],
   "source": [
    "# Create button widgets\n",
    "button_wdg1 = widgets.Button(\n",
    "    description = 'Refresh data',\n",
    "    button_style = 'primary',\n",
    "    disabled = False,\n",
    "    tooltip = \"Click to get current Public Health England data\",\n",
    "    icon='refresh'\n",
    ")\n",
    "# Create year widgets\n",
    "year_wdg1 = widgets.SelectMultiple(\n",
    "    options = tests_df.index.year.unique(), # options available\n",
    "    value = [tests_df.index.year[-1]], # initial value: most recent year\n",
    "    description = 'Select year',\n",
    "    disabled = False\n",
    ")\n",
    "# Create age widgets\n",
    "age_wdg1 = widgets.SelectMultiple(\n",
    "    options = tests_df.columns,\n",
    "    value = [col for col in tests_df.columns if col != 'all'],\n",
    "    description = 'Select age',\n",
    "    disabled = False\n",
    ")"
   ]
  },
  {
   "cell_type": "code",
   "execution_count": 12,
   "metadata": {},
   "outputs": [
    {
     "data": {
      "application/vnd.jupyter.widget-view+json": {
       "model_id": "d8c84822e0ef4bafa9bd2f09f2082239",
       "version_major": 2,
       "version_minor": 0
      },
      "text/plain": [
       "Button(button_style='primary', description='Refresh data', icon='refresh', style=ButtonStyle(), tooltip='Click…"
      ]
     },
     "metadata": {},
     "output_type": "display_data"
    },
    {
     "data": {
      "application/vnd.jupyter.widget-view+json": {
       "model_id": "fb76be1448bf4bb2a6d5f6e7c3b1e450",
       "version_major": 2,
       "version_minor": 0
      },
      "text/plain": [
       "SelectMultiple(description='Select year', index=(7,), options=(2017, 2018, 2019, 2020, 2021, 2022, 2023, 2024)…"
      ]
     },
     "metadata": {},
     "output_type": "display_data"
    },
    {
     "data": {
      "application/vnd.jupyter.widget-view+json": {
       "model_id": "cbf8aa609f814c93ba5b8aa4cd41b26d",
       "version_major": 2,
       "version_minor": 0
      },
      "text/plain": [
       "SelectMultiple(description='Select age', index=(0, 1, 3, 4, 5, 6, 7, 8, 9, 10, 11, 12, 13), options=('00-04', …"
      ]
     },
     "metadata": {},
     "output_type": "display_data"
    },
    {
     "data": {
      "application/vnd.jupyter.widget-view+json": {
       "model_id": "b17a05fa02dd4e9c9248083994ea33a1",
       "version_major": 2,
       "version_minor": 0
      },
      "text/plain": [
       "Output()"
      ]
     },
     "metadata": {},
     "output_type": "display_data"
    }
   ],
   "source": [
    "# Capture output in widget output    \n",
    "tests_output = widgets.interactive_output(plot_data, {\n",
    "    'selected_year': year_wdg1, \n",
    "    'selected_age': age_wdg1, \n",
    "    'df': widgets.fixed(tests_df), \n",
    "    'ylabel1': widgets.fixed('Weekly PCR Test Positivity (%)'), \n",
    "    'ylabel2': widgets.fixed('Weekly PCR Test Positivity by Age Groups (%)')})\n",
    "\n",
    "display(button_wdg1, year_wdg1, age_wdg1, tests_output)"
   ]
  },
  {
   "cell_type": "code",
   "execution_count": 13,
   "metadata": {},
   "outputs": [],
   "source": [
    "#  Register button callback function with the button\n",
    "button_wdg1.on_click(lambda b: api_button_callback(b, \n",
    "                                                   metric='influenza_testing_positivityByWeek', \n",
    "                                                   output=tests_output, \n",
    "                                                   button_widget=button_wdg1, \n",
    "                                                   year_widget=year_wdg1, \n",
    "                                                   age_widget=age_wdg1)) "
   ]
  },
  {
   "cell_type": "markdown",
   "metadata": {},
   "source": [
    "## <font color=\"#4384f3\">Healthcare: ICU HDU admission rates per 100,000 population</font>"
   ]
  },
  {
   "cell_type": "markdown",
   "metadata": {},
   "source": [
    "**<font color=\"#555555\">The two figures below show weekly overall influenza hospital ICU HDU rates per 100,000 trust catchment population</font>**\n",
    "\n",
    "_Source: https://ukhsa-dashboard.data.gov.uk/respiratory-viruses/influenza_\n",
    "\n",
    "- Select the year or age groups for which you want to see the data. You can select multiple years or age groups by Shift+Click.\n",
    "- To get the most recent data from Public Health England, please click Refresh data"
   ]
  },
  {
   "cell_type": "code",
   "execution_count": 14,
   "metadata": {},
   "outputs": [],
   "source": [
    "icu_df = wrangle_data(icu_admissions)"
   ]
  },
  {
   "cell_type": "code",
   "execution_count": 15,
   "metadata": {},
   "outputs": [],
   "source": [
    "# Create button widgets\n",
    "button_wdg2 = widgets.Button(\n",
    "    description = 'Refresh data', \n",
    "    button_style = 'primary',\n",
    "    disabled = False,\n",
    "    tooltip = \"Click to get current Public Health England data\",\n",
    "    icon='refresh'\n",
    ")\n",
    "# Create year widgets\n",
    "year_wdg2 = widgets.SelectMultiple(\n",
    "    options = icu_df.index.year.unique(), # options available\n",
    "    value = [icu_df.index.year[-1]], # initial value: most recent year\n",
    "    description = 'Select year',\n",
    "    disabled = False,\n",
    ")\n",
    "# Create age widgets\n",
    "age_wdg2 = widgets.SelectMultiple(\n",
    "    options = icu_df.columns,\n",
    "    value = [col for col in icu_df.columns if col != 'all'],\n",
    "    description = 'Select age',\n",
    "    disabled = False\n",
    ")"
   ]
  },
  {
   "cell_type": "code",
   "execution_count": 16,
   "metadata": {},
   "outputs": [
    {
     "data": {
      "application/vnd.jupyter.widget-view+json": {
       "model_id": "02a2a53a8b16456b9bf046d5206ebe6f",
       "version_major": 2,
       "version_minor": 0
      },
      "text/plain": [
       "Button(button_style='primary', description='Refresh data', icon='refresh', style=ButtonStyle(), tooltip='Click…"
      ]
     },
     "metadata": {},
     "output_type": "display_data"
    },
    {
     "data": {
      "application/vnd.jupyter.widget-view+json": {
       "model_id": "d4b35dfff43d4f9895cb117a7e46528e",
       "version_major": 2,
       "version_minor": 0
      },
      "text/plain": [
       "SelectMultiple(description='Select year', index=(9,), options=(2015, 2016, 2017, 2018, 2019, 2020, 2021, 2022,…"
      ]
     },
     "metadata": {},
     "output_type": "display_data"
    },
    {
     "data": {
      "application/vnd.jupyter.widget-view+json": {
       "model_id": "40497d66c2094e02bd0f18b43bc4675a",
       "version_major": 2,
       "version_minor": 0
      },
      "text/plain": [
       "SelectMultiple(description='Select age', index=(1, 2, 3, 4, 5, 6, 7, 8, 9), options=('all', '65-74', '45-54', …"
      ]
     },
     "metadata": {},
     "output_type": "display_data"
    },
    {
     "data": {
      "application/vnd.jupyter.widget-view+json": {
       "model_id": "231e290d5d1c421688a996fc319a4e63",
       "version_major": 2,
       "version_minor": 0
      },
      "text/plain": [
       "Output()"
      ]
     },
     "metadata": {},
     "output_type": "display_data"
    }
   ],
   "source": [
    "# Capture output in widget output    \n",
    "icu_output = widgets.interactive_output(plot_data, {\n",
    "    'selected_year': year_wdg2, \n",
    "    'selected_age': age_wdg2, \n",
    "    'df': widgets.fixed(icu_df), \n",
    "    'ylabel1': widgets.fixed('Weekly Rates per 100,000 Population'), \n",
    "    'ylabel2': widgets.fixed('Weekly Rates per 100,000 Population by Age Groups')})\n",
    "\n",
    "display(button_wdg2, year_wdg2, age_wdg2, icu_output)"
   ]
  },
  {
   "cell_type": "code",
   "execution_count": 17,
   "metadata": {},
   "outputs": [],
   "source": [
    "# Register button callback function with the button\n",
    "button_wdg2.on_click(lambda b: api_button_callback(b, \n",
    "                                                   metric='influenza_healthcare_ICUHDUadmissionRateByWeek', \n",
    "                                                   output=icu_output, \n",
    "                                                   button_widget=button_wdg2, \n",
    "                                                   year_widget=year_wdg2, \n",
    "                                                   age_widget=age_wdg2)) "
   ]
  },
  {
   "cell_type": "markdown",
   "metadata": {},
   "source": [
    "## <font color=\"#4384f3\">Healthcare: Hospital admission rates per 100,000 population</font>"
   ]
  },
  {
   "cell_type": "markdown",
   "metadata": {},
   "source": [
    "**<font color=\"#555555\">The two figures below show Weekly overall influenza hospital admission rates per 100,000 trust catchment population</font>**\n",
    "\n",
    "_Source: https://ukhsa-dashboard.data.gov.uk/respiratory-viruses/influenza_\n",
    "\n",
    "- Select the year or age groups for which you want to see the data. You can select multiple years or age groups by Shift+Click.\n",
    "- To get the most recent data from Public Health England, please click Refresh data"
   ]
  },
  {
   "cell_type": "code",
   "execution_count": 18,
   "metadata": {},
   "outputs": [],
   "source": [
    "hospital_df = wrangle_data(hospital_admissions)"
   ]
  },
  {
   "cell_type": "code",
   "execution_count": 19,
   "metadata": {},
   "outputs": [],
   "source": [
    "# Create button widgets\n",
    "button_wdg3 = widgets.Button(\n",
    "    description = 'Refresh data',\n",
    "    button_style = 'primary',\n",
    "    disabled = False,\n",
    "    tooltip = \"Click to get current Public Health England data\",\n",
    "    icon='refresh'\n",
    ")\n",
    "# Create year widgets\n",
    "year_wdg3 = widgets.SelectMultiple(\n",
    "    options = hospital_df.index.year.unique(), # options available\n",
    "    value = [hospital_df.index.year[-1]], # initial value: most recent year\n",
    "    description = 'Select year',\n",
    "    disabled = False,\n",
    ")\n",
    "# Create age widgets\n",
    "age_wdg3 = widgets.SelectMultiple(\n",
    "    options = hospital_df.columns,\n",
    "    value = [col for col in hospital_df.columns if col != 'all'],\n",
    "    description = 'Select age',\n",
    "    disabled = False\n",
    ")"
   ]
  },
  {
   "cell_type": "code",
   "execution_count": 20,
   "metadata": {},
   "outputs": [
    {
     "data": {
      "application/vnd.jupyter.widget-view+json": {
       "model_id": "ad57e755e308430a9569f9c03afb5dca",
       "version_major": 2,
       "version_minor": 0
      },
      "text/plain": [
       "Button(button_style='primary', description='Refresh data', icon='refresh', style=ButtonStyle(), tooltip='Click…"
      ]
     },
     "metadata": {},
     "output_type": "display_data"
    },
    {
     "data": {
      "application/vnd.jupyter.widget-view+json": {
       "model_id": "1fec383501b14e0fa5fe7c162a8aadbf",
       "version_major": 2,
       "version_minor": 0
      },
      "text/plain": [
       "SelectMultiple(description='Select year', index=(9,), options=(2015, 2016, 2017, 2018, 2019, 2020, 2021, 2022,…"
      ]
     },
     "metadata": {},
     "output_type": "display_data"
    },
    {
     "data": {
      "application/vnd.jupyter.widget-view+json": {
       "model_id": "55c8c7ffcc38408184eaea2fc7a2e819",
       "version_major": 2,
       "version_minor": 0
      },
      "text/plain": [
       "SelectMultiple(description='Select age', index=(1, 2, 3, 4, 5, 6, 7, 8, 9), options=('all', '65-74', '45-54', …"
      ]
     },
     "metadata": {},
     "output_type": "display_data"
    },
    {
     "data": {
      "application/vnd.jupyter.widget-view+json": {
       "model_id": "b40cb3d5657d4d2081d4f2f766d6af55",
       "version_major": 2,
       "version_minor": 0
      },
      "text/plain": [
       "Output()"
      ]
     },
     "metadata": {},
     "output_type": "display_data"
    }
   ],
   "source": [
    "# Capture output in widget output    \n",
    "hospital_output = widgets.interactive_output(plot_data, {\n",
    "    'selected_year': year_wdg3, \n",
    "    'selected_age': age_wdg3, \n",
    "    'df': widgets.fixed(hospital_df), \n",
    "    'ylabel1': widgets.fixed('Weekly Rates per 100,000 Population'), \n",
    "    'ylabel2': widgets.fixed('Weekly Rates per 100,000 Population by Age Groups')})\n",
    "\n",
    "display(button_wdg3, year_wdg3, age_wdg3, hospital_output)"
   ]
  },
  {
   "cell_type": "code",
   "execution_count": 21,
   "metadata": {},
   "outputs": [],
   "source": [
    "#  Register button callback function with the button\n",
    "button_wdg3.on_click(lambda b: api_button_callback(b, \n",
    "                                                   metric=\"influenza_healthcare_hospitalAdmissionRateByWeek\", \n",
    "                                                   output=icu_output, \n",
    "                                                   button_widget=button_wdg3, \n",
    "                                                   year_widget=year_wdg3, \n",
    "                                                   age_widget=age_wdg3)) "
   ]
  },
  {
   "cell_type": "markdown",
   "metadata": {},
   "source": [
    "**Author and License**: Based on UK Government [data](https://ukhsa-dashboard.data.gov.uk/) published by the [UK Health Security Agency](https://www.gov.uk/government/organisations/uk-health-security-agency) and on the [DIY Disease Tracking Dashboard Kit](https://github.com/fsmeraldi/diy-covid19dash) by Fabrizio Smeraldi. Released under the [GNU GPLv3.0 or later](https://www.gnu.org/licenses/)"
   ]
  }
 ],
 "metadata": {
  "kernelspec": {
   "display_name": "Python 3 (ipykernel)",
   "language": "python",
   "name": "python3"
  },
  "language_info": {
   "codemirror_mode": {
    "name": "ipython",
    "version": 3
   },
   "file_extension": ".py",
   "mimetype": "text/x-python",
   "name": "python",
   "nbconvert_exporter": "python",
   "pygments_lexer": "ipython3",
   "version": "3.11.9"
  }
 },
 "nbformat": 4,
 "nbformat_minor": 4
}
